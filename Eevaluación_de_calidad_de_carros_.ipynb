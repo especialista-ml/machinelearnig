{
  "nbformat": 4,
  "nbformat_minor": 0,
  "metadata": {
    "colab": {
      "provenance": [],
      "authorship_tag": "ABX9TyNAOfX4qhPFsItl0CJe5BzO",
      "include_colab_link": true
    },
    "kernelspec": {
      "name": "python3",
      "display_name": "Python 3"
    },
    "language_info": {
      "name": "python"
    }
  },
  "cells": [
    {
      "cell_type": "markdown",
      "metadata": {
        "id": "view-in-github",
        "colab_type": "text"
      },
      "source": [
        "<a href=\"https://colab.research.google.com/github/jasog01/cursomlean/blob/main/Eevaluaci%C3%B3n_de_calidad_de_carros_.ipynb\" target=\"_parent\"><img src=\"https://colab.research.google.com/assets/colab-badge.svg\" alt=\"Open In Colab\"/></a>"
      ]
    },
    {
      "cell_type": "markdown",
      "source": [
        "#Proyecto 2 – Modelos de clasificación supervisada para evaluar la calidad de un automovil\n",
        "\n",
        "**Integrantes del Grupo:**\n",
        "- Jose Sogamoso\n",
        "- Andres Marin\n",
        "- Blexy Granados\n",
        "\n",
        "**Descripción del Problema:**\n",
        "\n",
        "Analisis de evaluación de automoviles considerando seis caracteristicas: precio, mantenimiento, puertas, personas, maletero, seguridad.  Basado en esto categorizamos los vehiculos en las siguientes clases:\n",
        "unacc, acc, good, vgood.\n",
        "\n",
        "Fuente de datos https://archive.ics.uci.edu/dataset/19/car+evaluation\n",
        "\n",
        "\n",
        "\n",
        "#Resultados De comparar 3 modelos\n",
        "\n",
        "##Comparativo de modelos\n",
        "\n",
        "* Knn test accuracy: 0.96\n",
        "* Random Forest accuracy :0.96\n",
        "* LogisticRegression test accuracy: 0.93\n",
        "\n",
        "Los modelos que mejor se ajustan a la clasificación del ejercicio son el KNeighborsClassifier y Random Fores, si bien la regresión logística tiene una precisión ligeramente más baja, en este caso particular, puedieramos inferir que la diferencia en el rendimiento entre la regresión logística y los otros modelos podría atribuirse, a la sensibilidad de la regresión logística a la escala de las características y tambien al balance en las etiquetas objetivo, ya que la regresión puede sesgarse hacia la clase mayoritaria."
      ],
      "metadata": {
        "id": "S0ivpU08IZlY"
      }
    },
    {
      "cell_type": "code",
      "source": [
        "pip install ucimlrepo"
      ],
      "metadata": {
        "colab": {
          "base_uri": "https://localhost:8080/"
        },
        "id": "yBEOzxqlKPOi",
        "outputId": "52fd32b8-26bd-483b-b852-f157bb7f0fff"
      },
      "execution_count": 153,
      "outputs": [
        {
          "output_type": "stream",
          "name": "stdout",
          "text": [
            "Requirement already satisfied: ucimlrepo in /usr/local/lib/python3.10/dist-packages (0.0.6)\n"
          ]
        }
      ]
    },
    {
      "cell_type": "code",
      "source": [
        "from ucimlrepo import fetch_ucirepo\n",
        "  # fetch dataset\n",
        "car_evaluation = fetch_ucirepo(id=19)\n",
        "\n",
        "import pandas as pd\n",
        "datos=car_evaluation['data']\n",
        "df = pd.DataFrame(datos['original'])\n",
        "\n"
      ],
      "metadata": {
        "id": "QHzq4UOoKXRx"
      },
      "execution_count": 154,
      "outputs": []
    },
    {
      "cell_type": "markdown",
      "source": [
        "#Analisis exploratorio\n",
        "El dataset proporcionado cuenta con variables categoricas las cuales trasnformaremos a codificacion Ordinal, no require tratamiento de datos nulos."
      ],
      "metadata": {
        "id": "2wpcPUSHt7Qr"
      }
    },
    {
      "cell_type": "code",
      "source": [
        "car_evaluation['variables']"
      ],
      "metadata": {
        "colab": {
          "base_uri": "https://localhost:8080/",
          "height": 269
        },
        "id": "YEt-Wi2YQV35",
        "outputId": "81b47db8-020f-448f-db9b-1fa25433f1b7"
      },
      "execution_count": 155,
      "outputs": [
        {
          "output_type": "execute_result",
          "data": {
            "text/plain": [
              "       name     role         type demographic  \\\n",
              "0    buying  Feature  Categorical        None   \n",
              "1     maint  Feature  Categorical        None   \n",
              "2     doors  Feature  Categorical        None   \n",
              "3   persons  Feature  Categorical        None   \n",
              "4  lug_boot  Feature  Categorical        None   \n",
              "5    safety  Feature  Categorical        None   \n",
              "6     class   Target  Categorical        None   \n",
              "\n",
              "                                         description units missing_values  \n",
              "0                                       buying price  None             no  \n",
              "1                           price of the maintenance  None             no  \n",
              "2                                    number of doors  None             no  \n",
              "3              capacity in terms of persons to carry  None             no  \n",
              "4                           the size of luggage boot  None             no  \n",
              "5                        estimated safety of the car  None             no  \n",
              "6  evaulation level (unacceptable, acceptable, go...  None             no  "
            ],
            "text/html": [
              "\n",
              "  <div id=\"df-415591cf-c014-4b36-90d2-264a4a01114b\" class=\"colab-df-container\">\n",
              "    <div>\n",
              "<style scoped>\n",
              "    .dataframe tbody tr th:only-of-type {\n",
              "        vertical-align: middle;\n",
              "    }\n",
              "\n",
              "    .dataframe tbody tr th {\n",
              "        vertical-align: top;\n",
              "    }\n",
              "\n",
              "    .dataframe thead th {\n",
              "        text-align: right;\n",
              "    }\n",
              "</style>\n",
              "<table border=\"1\" class=\"dataframe\">\n",
              "  <thead>\n",
              "    <tr style=\"text-align: right;\">\n",
              "      <th></th>\n",
              "      <th>name</th>\n",
              "      <th>role</th>\n",
              "      <th>type</th>\n",
              "      <th>demographic</th>\n",
              "      <th>description</th>\n",
              "      <th>units</th>\n",
              "      <th>missing_values</th>\n",
              "    </tr>\n",
              "  </thead>\n",
              "  <tbody>\n",
              "    <tr>\n",
              "      <th>0</th>\n",
              "      <td>buying</td>\n",
              "      <td>Feature</td>\n",
              "      <td>Categorical</td>\n",
              "      <td>None</td>\n",
              "      <td>buying price</td>\n",
              "      <td>None</td>\n",
              "      <td>no</td>\n",
              "    </tr>\n",
              "    <tr>\n",
              "      <th>1</th>\n",
              "      <td>maint</td>\n",
              "      <td>Feature</td>\n",
              "      <td>Categorical</td>\n",
              "      <td>None</td>\n",
              "      <td>price of the maintenance</td>\n",
              "      <td>None</td>\n",
              "      <td>no</td>\n",
              "    </tr>\n",
              "    <tr>\n",
              "      <th>2</th>\n",
              "      <td>doors</td>\n",
              "      <td>Feature</td>\n",
              "      <td>Categorical</td>\n",
              "      <td>None</td>\n",
              "      <td>number of doors</td>\n",
              "      <td>None</td>\n",
              "      <td>no</td>\n",
              "    </tr>\n",
              "    <tr>\n",
              "      <th>3</th>\n",
              "      <td>persons</td>\n",
              "      <td>Feature</td>\n",
              "      <td>Categorical</td>\n",
              "      <td>None</td>\n",
              "      <td>capacity in terms of persons to carry</td>\n",
              "      <td>None</td>\n",
              "      <td>no</td>\n",
              "    </tr>\n",
              "    <tr>\n",
              "      <th>4</th>\n",
              "      <td>lug_boot</td>\n",
              "      <td>Feature</td>\n",
              "      <td>Categorical</td>\n",
              "      <td>None</td>\n",
              "      <td>the size of luggage boot</td>\n",
              "      <td>None</td>\n",
              "      <td>no</td>\n",
              "    </tr>\n",
              "    <tr>\n",
              "      <th>5</th>\n",
              "      <td>safety</td>\n",
              "      <td>Feature</td>\n",
              "      <td>Categorical</td>\n",
              "      <td>None</td>\n",
              "      <td>estimated safety of the car</td>\n",
              "      <td>None</td>\n",
              "      <td>no</td>\n",
              "    </tr>\n",
              "    <tr>\n",
              "      <th>6</th>\n",
              "      <td>class</td>\n",
              "      <td>Target</td>\n",
              "      <td>Categorical</td>\n",
              "      <td>None</td>\n",
              "      <td>evaulation level (unacceptable, acceptable, go...</td>\n",
              "      <td>None</td>\n",
              "      <td>no</td>\n",
              "    </tr>\n",
              "  </tbody>\n",
              "</table>\n",
              "</div>\n",
              "    <div class=\"colab-df-buttons\">\n",
              "\n",
              "  <div class=\"colab-df-container\">\n",
              "    <button class=\"colab-df-convert\" onclick=\"convertToInteractive('df-415591cf-c014-4b36-90d2-264a4a01114b')\"\n",
              "            title=\"Convert this dataframe to an interactive table.\"\n",
              "            style=\"display:none;\">\n",
              "\n",
              "  <svg xmlns=\"http://www.w3.org/2000/svg\" height=\"24px\" viewBox=\"0 -960 960 960\">\n",
              "    <path d=\"M120-120v-720h720v720H120Zm60-500h600v-160H180v160Zm220 220h160v-160H400v160Zm0 220h160v-160H400v160ZM180-400h160v-160H180v160Zm440 0h160v-160H620v160ZM180-180h160v-160H180v160Zm440 0h160v-160H620v160Z\"/>\n",
              "  </svg>\n",
              "    </button>\n",
              "\n",
              "  <style>\n",
              "    .colab-df-container {\n",
              "      display:flex;\n",
              "      gap: 12px;\n",
              "    }\n",
              "\n",
              "    .colab-df-convert {\n",
              "      background-color: #E8F0FE;\n",
              "      border: none;\n",
              "      border-radius: 50%;\n",
              "      cursor: pointer;\n",
              "      display: none;\n",
              "      fill: #1967D2;\n",
              "      height: 32px;\n",
              "      padding: 0 0 0 0;\n",
              "      width: 32px;\n",
              "    }\n",
              "\n",
              "    .colab-df-convert:hover {\n",
              "      background-color: #E2EBFA;\n",
              "      box-shadow: 0px 1px 2px rgba(60, 64, 67, 0.3), 0px 1px 3px 1px rgba(60, 64, 67, 0.15);\n",
              "      fill: #174EA6;\n",
              "    }\n",
              "\n",
              "    .colab-df-buttons div {\n",
              "      margin-bottom: 4px;\n",
              "    }\n",
              "\n",
              "    [theme=dark] .colab-df-convert {\n",
              "      background-color: #3B4455;\n",
              "      fill: #D2E3FC;\n",
              "    }\n",
              "\n",
              "    [theme=dark] .colab-df-convert:hover {\n",
              "      background-color: #434B5C;\n",
              "      box-shadow: 0px 1px 3px 1px rgba(0, 0, 0, 0.15);\n",
              "      filter: drop-shadow(0px 1px 2px rgba(0, 0, 0, 0.3));\n",
              "      fill: #FFFFFF;\n",
              "    }\n",
              "  </style>\n",
              "\n",
              "    <script>\n",
              "      const buttonEl =\n",
              "        document.querySelector('#df-415591cf-c014-4b36-90d2-264a4a01114b button.colab-df-convert');\n",
              "      buttonEl.style.display =\n",
              "        google.colab.kernel.accessAllowed ? 'block' : 'none';\n",
              "\n",
              "      async function convertToInteractive(key) {\n",
              "        const element = document.querySelector('#df-415591cf-c014-4b36-90d2-264a4a01114b');\n",
              "        const dataTable =\n",
              "          await google.colab.kernel.invokeFunction('convertToInteractive',\n",
              "                                                    [key], {});\n",
              "        if (!dataTable) return;\n",
              "\n",
              "        const docLinkHtml = 'Like what you see? Visit the ' +\n",
              "          '<a target=\"_blank\" href=https://colab.research.google.com/notebooks/data_table.ipynb>data table notebook</a>'\n",
              "          + ' to learn more about interactive tables.';\n",
              "        element.innerHTML = '';\n",
              "        dataTable['output_type'] = 'display_data';\n",
              "        await google.colab.output.renderOutput(dataTable, element);\n",
              "        const docLink = document.createElement('div');\n",
              "        docLink.innerHTML = docLinkHtml;\n",
              "        element.appendChild(docLink);\n",
              "      }\n",
              "    </script>\n",
              "  </div>\n",
              "\n",
              "\n",
              "<div id=\"df-3103903e-8b4e-4653-9a20-860185b04008\">\n",
              "  <button class=\"colab-df-quickchart\" onclick=\"quickchart('df-3103903e-8b4e-4653-9a20-860185b04008')\"\n",
              "            title=\"Suggest charts\"\n",
              "            style=\"display:none;\">\n",
              "\n",
              "<svg xmlns=\"http://www.w3.org/2000/svg\" height=\"24px\"viewBox=\"0 0 24 24\"\n",
              "     width=\"24px\">\n",
              "    <g>\n",
              "        <path d=\"M19 3H5c-1.1 0-2 .9-2 2v14c0 1.1.9 2 2 2h14c1.1 0 2-.9 2-2V5c0-1.1-.9-2-2-2zM9 17H7v-7h2v7zm4 0h-2V7h2v10zm4 0h-2v-4h2v4z\"/>\n",
              "    </g>\n",
              "</svg>\n",
              "  </button>\n",
              "\n",
              "<style>\n",
              "  .colab-df-quickchart {\n",
              "      --bg-color: #E8F0FE;\n",
              "      --fill-color: #1967D2;\n",
              "      --hover-bg-color: #E2EBFA;\n",
              "      --hover-fill-color: #174EA6;\n",
              "      --disabled-fill-color: #AAA;\n",
              "      --disabled-bg-color: #DDD;\n",
              "  }\n",
              "\n",
              "  [theme=dark] .colab-df-quickchart {\n",
              "      --bg-color: #3B4455;\n",
              "      --fill-color: #D2E3FC;\n",
              "      --hover-bg-color: #434B5C;\n",
              "      --hover-fill-color: #FFFFFF;\n",
              "      --disabled-bg-color: #3B4455;\n",
              "      --disabled-fill-color: #666;\n",
              "  }\n",
              "\n",
              "  .colab-df-quickchart {\n",
              "    background-color: var(--bg-color);\n",
              "    border: none;\n",
              "    border-radius: 50%;\n",
              "    cursor: pointer;\n",
              "    display: none;\n",
              "    fill: var(--fill-color);\n",
              "    height: 32px;\n",
              "    padding: 0;\n",
              "    width: 32px;\n",
              "  }\n",
              "\n",
              "  .colab-df-quickchart:hover {\n",
              "    background-color: var(--hover-bg-color);\n",
              "    box-shadow: 0 1px 2px rgba(60, 64, 67, 0.3), 0 1px 3px 1px rgba(60, 64, 67, 0.15);\n",
              "    fill: var(--button-hover-fill-color);\n",
              "  }\n",
              "\n",
              "  .colab-df-quickchart-complete:disabled,\n",
              "  .colab-df-quickchart-complete:disabled:hover {\n",
              "    background-color: var(--disabled-bg-color);\n",
              "    fill: var(--disabled-fill-color);\n",
              "    box-shadow: none;\n",
              "  }\n",
              "\n",
              "  .colab-df-spinner {\n",
              "    border: 2px solid var(--fill-color);\n",
              "    border-color: transparent;\n",
              "    border-bottom-color: var(--fill-color);\n",
              "    animation:\n",
              "      spin 1s steps(1) infinite;\n",
              "  }\n",
              "\n",
              "  @keyframes spin {\n",
              "    0% {\n",
              "      border-color: transparent;\n",
              "      border-bottom-color: var(--fill-color);\n",
              "      border-left-color: var(--fill-color);\n",
              "    }\n",
              "    20% {\n",
              "      border-color: transparent;\n",
              "      border-left-color: var(--fill-color);\n",
              "      border-top-color: var(--fill-color);\n",
              "    }\n",
              "    30% {\n",
              "      border-color: transparent;\n",
              "      border-left-color: var(--fill-color);\n",
              "      border-top-color: var(--fill-color);\n",
              "      border-right-color: var(--fill-color);\n",
              "    }\n",
              "    40% {\n",
              "      border-color: transparent;\n",
              "      border-right-color: var(--fill-color);\n",
              "      border-top-color: var(--fill-color);\n",
              "    }\n",
              "    60% {\n",
              "      border-color: transparent;\n",
              "      border-right-color: var(--fill-color);\n",
              "    }\n",
              "    80% {\n",
              "      border-color: transparent;\n",
              "      border-right-color: var(--fill-color);\n",
              "      border-bottom-color: var(--fill-color);\n",
              "    }\n",
              "    90% {\n",
              "      border-color: transparent;\n",
              "      border-bottom-color: var(--fill-color);\n",
              "    }\n",
              "  }\n",
              "</style>\n",
              "\n",
              "  <script>\n",
              "    async function quickchart(key) {\n",
              "      const quickchartButtonEl =\n",
              "        document.querySelector('#' + key + ' button');\n",
              "      quickchartButtonEl.disabled = true;  // To prevent multiple clicks.\n",
              "      quickchartButtonEl.classList.add('colab-df-spinner');\n",
              "      try {\n",
              "        const charts = await google.colab.kernel.invokeFunction(\n",
              "            'suggestCharts', [key], {});\n",
              "      } catch (error) {\n",
              "        console.error('Error during call to suggestCharts:', error);\n",
              "      }\n",
              "      quickchartButtonEl.classList.remove('colab-df-spinner');\n",
              "      quickchartButtonEl.classList.add('colab-df-quickchart-complete');\n",
              "    }\n",
              "    (() => {\n",
              "      let quickchartButtonEl =\n",
              "        document.querySelector('#df-3103903e-8b4e-4653-9a20-860185b04008 button');\n",
              "      quickchartButtonEl.style.display =\n",
              "        google.colab.kernel.accessAllowed ? 'block' : 'none';\n",
              "    })();\n",
              "  </script>\n",
              "</div>\n",
              "    </div>\n",
              "  </div>\n"
            ],
            "application/vnd.google.colaboratory.intrinsic+json": {
              "type": "dataframe",
              "repr_error": "Out of range float values are not JSON compliant: nan"
            }
          },
          "metadata": {},
          "execution_count": 155
        }
      ]
    },
    {
      "cell_type": "markdown",
      "source": [
        "#Asignación de Codificación Variables categoricas\n",
        "\n",
        "##Tecnica Seleccionada : Codificación Ordinal"
      ],
      "metadata": {
        "id": "T7-VUl-5zFn5"
      }
    },
    {
      "cell_type": "code",
      "source": [
        "from sklearn.preprocessing import OrdinalEncoder\n",
        "\n",
        "#Codificacion Ordinal varaibles categoricas\n",
        "\n",
        "ordinal_encoder = OrdinalEncoder()\n",
        "\n",
        "# Ajustar y transformar la columna categórica\n",
        "df['buying'] = ordinal_encoder.fit_transform(df[['buying']])\n",
        "df['maint'] = ordinal_encoder.fit_transform(df[['maint']])\n",
        "df['doors'] = ordinal_encoder.fit_transform(df[['doors']])\n",
        "df['persons'] = ordinal_encoder.fit_transform(df[['persons']])\n",
        "df['lug_boot'] = ordinal_encoder.fit_transform(df[['lug_boot']])\n",
        "df['safety'] = ordinal_encoder.fit_transform(df[['safety']])\n",
        "df['class'] = ordinal_encoder.fit_transform(df[['class']])"
      ],
      "metadata": {
        "id": "mhXEW9lpurDh"
      },
      "execution_count": 156,
      "outputs": []
    },
    {
      "cell_type": "markdown",
      "source": [
        "#Modelo KNeighborsClassifier\n",
        "## Dado el desbalance de las etiquetas objetivo, aplicamos stratify=y en la partición de lo datos y aseguramos proporciones iguales en los set de entrenamiento y testeo"
      ],
      "metadata": {
        "id": "DevHgqlV0Lpv"
      }
    },
    {
      "cell_type": "code",
      "source": [
        "from sklearn.model_selection import train_test_split\n",
        "from sklearn.neighbors import KNeighborsClassifier\n",
        "from sklearn.metrics import accuracy_score\n",
        "\n",
        "\n",
        "# Dividir los datos en características (X) y objetivos (y)\n",
        "X = df.drop(columns=['class'])  # Características\n",
        "y = df[['class']]  # Etiquetas\n",
        "\n",
        "# Dividir los datos en conjuntos de entrenamiento y prueba\n",
        "X_train, X_test, y_train, y_test = train_test_split(X, y, test_size=0.2, stratify=y, random_state=42)\n",
        "\n",
        "# Inicializar los clasificadores de vecinos cercanos para cada columna objetivo\n",
        "knn = KNeighborsClassifier(n_neighbors=5)\n",
        "\n",
        "# # Entrenar el modelo de vecinos cercanos\n",
        "knn.fit(X_train, y_train)\n",
        "\n",
        "# # Predecir las etiquetas para los datos de prueba\n",
        "y_pred = knn.predict(X_test)\n"
      ],
      "metadata": {
        "colab": {
          "base_uri": "https://localhost:8080/"
        },
        "id": "m-vV4sv6pgrP",
        "outputId": "76e1acf6-409a-483e-bcff-f2dbc7dd3ee9"
      },
      "execution_count": 157,
      "outputs": [
        {
          "output_type": "stream",
          "name": "stderr",
          "text": [
            "/usr/local/lib/python3.10/dist-packages/sklearn/neighbors/_classification.py:215: DataConversionWarning: A column-vector y was passed when a 1d array was expected. Please change the shape of y to (n_samples,), for example using ravel().\n",
            "  return self._fit(X, y)\n"
          ]
        }
      ]
    },
    {
      "cell_type": "code",
      "source": [
        "# # Calcular la precisión del modelo\n",
        "precision = accuracy_score(y_test, y_pred)\n",
        "\n",
        "print(\"Precisión del modelo de vecinos cercanos:\", precision)"
      ],
      "metadata": {
        "colab": {
          "base_uri": "https://localhost:8080/"
        },
        "id": "7DpLLdhLqIQJ",
        "outputId": "77fb9cae-a9ce-4976-efca-cde58b40d98c"
      },
      "execution_count": 159,
      "outputs": [
        {
          "output_type": "stream",
          "name": "stdout",
          "text": [
            "Precisión del modelo de vecinos cercanos: 0.9104046242774566\n"
          ]
        }
      ]
    },
    {
      "cell_type": "markdown",
      "source": [
        "#Tecnica de escalado estandar en modelo para mejorar rendimiento"
      ],
      "metadata": {
        "id": "V9VHd7xl1TO2"
      }
    },
    {
      "cell_type": "code",
      "source": [
        "#Escalamos Modelo\n",
        "from sklearn.preprocessing import StandardScaler\n",
        "scaler = StandardScaler()\n",
        "scaler.fit(X_train)\n",
        "X_train_scaled = scaler.transform(X_train)\n",
        "X_test_scaled = scaler.transform(X_test)\n",
        "\n",
        "# Ajustamos modelo\n",
        "knn.fit(X_train_scaled, y_train)\n",
        "# score\n",
        "print(\"Knn test accuracy: {:.2f}\".format(knn.score(X_test_scaled, y_test)))"
      ],
      "metadata": {
        "colab": {
          "base_uri": "https://localhost:8080/"
        },
        "id": "nixdUL7vrPH6",
        "outputId": "1425df32-7b69-49e8-80d6-f9b59f8be453"
      },
      "execution_count": 161,
      "outputs": [
        {
          "output_type": "stream",
          "name": "stdout",
          "text": [
            "Knn test accuracy: 0.96\n"
          ]
        },
        {
          "output_type": "stream",
          "name": "stderr",
          "text": [
            "/usr/local/lib/python3.10/dist-packages/sklearn/neighbors/_classification.py:215: DataConversionWarning: A column-vector y was passed when a 1d array was expected. Please change the shape of y to (n_samples,), for example using ravel().\n",
            "  return self._fit(X, y)\n"
          ]
        }
      ]
    },
    {
      "cell_type": "markdown",
      "source": [
        "#Resumen de clasifición"
      ],
      "metadata": {
        "id": "auiz4BR81daR"
      }
    },
    {
      "cell_type": "code",
      "source": [
        "from sklearn.metrics import classification_report\n",
        "\n",
        "# Realizar predicciones en los datos de prueba\n",
        "y_pred = knn.predict(X_test_scaled)\n",
        "\n",
        "# Generar el informe de clasificación\n",
        "reporte_clasificacion = classification_report(y_test, y_pred)\n",
        "\n",
        "# Imprimir el informe de clasificación\n",
        "print(reporte_clasificacion)\n"
      ],
      "metadata": {
        "colab": {
          "base_uri": "https://localhost:8080/"
        },
        "id": "FgavN4SQrtwI",
        "outputId": "1a41c24b-7562-4a9b-ce9d-10273252fd68"
      },
      "execution_count": 162,
      "outputs": [
        {
          "output_type": "stream",
          "name": "stdout",
          "text": [
            "              precision    recall  f1-score   support\n",
            "\n",
            "         0.0       0.87      0.97      0.92        77\n",
            "         1.0       0.86      0.43      0.57        14\n",
            "         2.0       0.99      1.00      0.99       242\n",
            "         3.0       1.00      0.77      0.87        13\n",
            "\n",
            "    accuracy                           0.96       346\n",
            "   macro avg       0.93      0.79      0.84       346\n",
            "weighted avg       0.96      0.96      0.96       346\n",
            "\n"
          ]
        }
      ]
    },
    {
      "cell_type": "markdown",
      "source": [
        "#Conclusiones\n",
        "\n",
        "El modelo alcanzo un accuracy del 0.96 con alta precisión para evaluar los vehiculos y clasificarlos correctamente en sus categorias, de estas obtenemos valores sobresalientes para las etiquetas 2 y 3,con una precision del 0.99 y 1.0 respectivamnete.\n",
        "\n",
        "* 'acc' codificado como 0\n",
        "* 'good' codificado  como 1\n",
        "* 'unacc' codificado  como 2\n",
        "* 'vgood' codificado  como 3\n"
      ],
      "metadata": {
        "id": "cR2QpoBh19B2"
      }
    },
    {
      "cell_type": "markdown",
      "source": [
        "#Modelo Regresión Logistica"
      ],
      "metadata": {
        "id": "BgEzjbU27C_Q"
      }
    },
    {
      "cell_type": "code",
      "source": [
        "# Cargar los datos\n",
        "url ='https://archive.ics.uci.edu/static/public/19/data.csv'\n",
        "df = pd.read_csv(url, delimiter=',')\n",
        "\n"
      ],
      "metadata": {
        "id": "ZLiagYCZ7Unh"
      },
      "execution_count": 202,
      "outputs": []
    },
    {
      "cell_type": "code",
      "source": [
        "# Aplicar codificación one-hot a las variables categóricas\n",
        "\n",
        "df_encoded = pd.get_dummies(df, drop_first=True)\n"
      ],
      "metadata": {
        "id": "00fDP7EN9dix"
      },
      "execution_count": 203,
      "outputs": []
    },
    {
      "cell_type": "code",
      "source": [
        "from sklearn.model_selection import train_test_split\n",
        "from sklearn.linear_model import LogisticRegression\n",
        "from sklearn.metrics import accuracy_score, classification_report\n",
        "\n",
        "# Dividir los datos en características (X) y variable objetivo (y)\n",
        "X = df.drop(columns=['class'])\n",
        "y = df['class']  # Variable objetivo: class\n",
        "\n",
        "# Aplicar codificación one-hot a las variables categóricas excepto 'class'\n",
        "X_encoded = pd.get_dummies(X, drop_first=True)\n",
        "\n",
        "# Dividir los datos en conjuntos de entrenamiento y prueba (80% entrenamiento, 20% prueba)\n",
        "X_train, X_test, y_train, y_test = train_test_split(X_encoded, y, test_size=0.2,random_state=42)\n",
        "\n",
        "# Construir el modelo de regresión logística\n",
        "model = LogisticRegression(max_iter=1000)\n",
        "\n",
        "# Entrenar el modelo con los datos de entrenamiento\n",
        "model.fit(X_train, y_train)\n",
        "\n",
        "# Predecir sobre el conjunto de prueba\n",
        "y_pred = model.predict(X_test)\n",
        "\n",
        "# Evaluar el rendimiento del modelo\n",
        "accuracy = accuracy_score(y_test, y_pred)\n",
        "print(\"Accuracy:\", accuracy)\n"
      ],
      "metadata": {
        "colab": {
          "base_uri": "https://localhost:8080/"
        },
        "id": "dj72at8b67Te",
        "outputId": "042bfcbf-28d7-437e-93b5-67be7e3789f3"
      },
      "execution_count": 206,
      "outputs": [
        {
          "output_type": "stream",
          "name": "stdout",
          "text": [
            "Accuracy: 0.8988439306358381\n"
          ]
        }
      ]
    },
    {
      "cell_type": "code",
      "source": [
        "#Escalamos Modelo\n",
        "from sklearn.preprocessing import StandardScaler\n",
        "scaler = StandardScaler()\n",
        "scaler.fit(X_train)\n",
        "X_train_scaled = scaler.transform(X_train)\n",
        "X_test_scaled = scaler.transform(X_test)\n",
        "\n",
        "# Ajustamos modelo\n",
        "model.fit(X_train_scaled, y_train)\n",
        "# score\n",
        "print(\"LogisticRegression test accuracy: {:.2f}\".format(model.score(X_test_scaled, y_test)))"
      ],
      "metadata": {
        "colab": {
          "base_uri": "https://localhost:8080/"
        },
        "id": "Dxr81yit7x6C",
        "outputId": "81167329-57b7-41f6-b9d7-613fe6e5d0e9"
      },
      "execution_count": 207,
      "outputs": [
        {
          "output_type": "stream",
          "name": "stdout",
          "text": [
            "LogisticRegression test accuracy: 0.93\n"
          ]
        }
      ]
    },
    {
      "cell_type": "code",
      "source": [
        "from sklearn.linear_model import LogisticRegression\n",
        "\n",
        "# Crear el modelo de regresión logística con regularización L2 (Ridge)\n",
        "model = LogisticRegression(penalty='l2', C=1.0)\n",
        "\n",
        "# Entrenar el modelo\n",
        "model.fit(X_train, y_train)\n",
        "\n",
        "# Predecir las etiquetas para los datos de prueba\n",
        "y_pred = model.predict(X_test)\n",
        "accuracy = accuracy_score(y_test, y_pred)\n",
        "print(\"Accuracy:\", accuracy)"
      ],
      "metadata": {
        "colab": {
          "base_uri": "https://localhost:8080/"
        },
        "id": "gfc5aIdwAtkg",
        "outputId": "1b80a102-09fa-404f-84c8-caab82ff3b88"
      },
      "execution_count": 201,
      "outputs": [
        {
          "output_type": "stream",
          "name": "stdout",
          "text": [
            "Accuracy: 0.8988439306358381\n"
          ]
        }
      ]
    },
    {
      "cell_type": "code",
      "source": [
        "from sklearn.metrics import classification_report\n",
        "\n",
        "# Realizar predicciones en los datos de prueba\n",
        "y_pred = model.predict(X_test_scaled)\n",
        "\n",
        "# Generar el informe de clasificación\n",
        "reporte_clasificacion_logistica = classification_report(y_test, y_pred)\n",
        "\n",
        "# Imprimir el informe de clasificación\n",
        "print(reporte_clasificacion_logistica)"
      ],
      "metadata": {
        "colab": {
          "base_uri": "https://localhost:8080/"
        },
        "id": "RgqctMUC9s0r",
        "outputId": "4e4bf46b-f60a-4b53-f163-a4043650b5ce"
      },
      "execution_count": 196,
      "outputs": [
        {
          "output_type": "stream",
          "name": "stdout",
          "text": [
            "              precision    recall  f1-score   support\n",
            "\n",
            "         acc       0.88      0.82      0.85        83\n",
            "        good       0.60      0.82      0.69        11\n",
            "       unacc       0.96      0.97      0.97       235\n",
            "       vgood       0.94      0.94      0.94        17\n",
            "\n",
            "    accuracy                           0.93       346\n",
            "   macro avg       0.85      0.89      0.86       346\n",
            "weighted avg       0.93      0.93      0.93       346\n",
            "\n"
          ]
        }
      ]
    },
    {
      "cell_type": "markdown",
      "source": [
        "#Conclusiones\n",
        "\n",
        "El modelo alcanzo un accuracy del 0.93 con alta precisión para evaluar los vehiculos y clasificarlos correctamente en sus categorias, de estas obtenemos valores sobresalientes para las etiquetas unacc y vgood,con una precision del 0.96 y 0.94 respectivamnete.\n"
      ],
      "metadata": {
        "id": "Xo6C_Hvg-PJS"
      }
    },
    {
      "cell_type": "markdown",
      "source": [
        "# Modelo Random Forest"
      ],
      "metadata": {
        "id": "il3XFYpY-ohg"
      }
    },
    {
      "cell_type": "code",
      "source": [
        "import pandas as pd\n",
        "import numpy as np\n",
        "from sklearn.model_selection import train_test_split\n",
        "from sklearn.linear_model import LogisticRegression\n",
        "from sklearn.metrics import classification_report, confusion_matrix\n",
        "from sklearn.preprocessing import LabelEncoder"
      ],
      "metadata": {
        "id": "TsQv89Sq-uxT"
      },
      "execution_count": 185,
      "outputs": []
    },
    {
      "cell_type": "code",
      "source": [
        "#Nombres de las columnas\n",
        "column_names = [\"buying\", \"maint\", \"doors\", \"persons\", \"lug_boot\", \"safety\", \"class\"]"
      ],
      "metadata": {
        "id": "HnyO0_Z7-zv6"
      },
      "execution_count": 186,
      "outputs": []
    },
    {
      "cell_type": "code",
      "source": [
        "url ='https://raw.githubusercontent.com/Fire2025/Visualizacion_CienciadeDatos/main/car.data.csv'\n",
        "df = pd.read_csv(url, delimiter = ',', header=None, names=column_names)"
      ],
      "metadata": {
        "id": "ijtYsNtW-12K"
      },
      "execution_count": 187,
      "outputs": []
    },
    {
      "cell_type": "code",
      "source": [
        "from sklearn.preprocessing import LabelEncoder\n",
        "\n",
        "label_encoders = {}\n",
        "for column in df.columns:\n",
        "    le = LabelEncoder()\n",
        "    # Original unique categories\n",
        "    print(f'Original unique categories in {column}: {df[column].unique()}')\n",
        "\n",
        "    df[column] = le.fit_transform(df[column])\n",
        "\n",
        "    # Transformed unique categories\n",
        "    print(f'Transformed unique categories in {column}: {df[column].unique()}')\n",
        "\n",
        "    label_encoders[column] = le\n",
        "    #imprimir el LabelEncoder para ver cómo se ha configurado internamente\n",
        "    print(f'Label encoder for {column}: {le.classes_}\\n')\n"
      ],
      "metadata": {
        "collapsed": true,
        "colab": {
          "base_uri": "https://localhost:8080/"
        },
        "id": "HCTRppyg-6Dw",
        "outputId": "0189e1cb-6f11-4996-bdcb-4b09b556a341"
      },
      "execution_count": 188,
      "outputs": [
        {
          "output_type": "stream",
          "name": "stdout",
          "text": [
            "Original unique categories in buying: ['vhigh' 'high' 'med' 'low']\n",
            "Transformed unique categories in buying: [3 0 2 1]\n",
            "Label encoder for buying: ['high' 'low' 'med' 'vhigh']\n",
            "\n",
            "Original unique categories in maint: ['vhigh' 'high' 'med' 'low']\n",
            "Transformed unique categories in maint: [3 0 2 1]\n",
            "Label encoder for maint: ['high' 'low' 'med' 'vhigh']\n",
            "\n",
            "Original unique categories in doors: ['2' '3' '4' '5more']\n",
            "Transformed unique categories in doors: [0 1 2 3]\n",
            "Label encoder for doors: ['2' '3' '4' '5more']\n",
            "\n",
            "Original unique categories in persons: ['2' '4' 'more']\n",
            "Transformed unique categories in persons: [0 1 2]\n",
            "Label encoder for persons: ['2' '4' 'more']\n",
            "\n",
            "Original unique categories in lug_boot: ['small' 'med' 'big']\n",
            "Transformed unique categories in lug_boot: [2 1 0]\n",
            "Label encoder for lug_boot: ['big' 'med' 'small']\n",
            "\n",
            "Original unique categories in safety: ['low' 'med' 'high']\n",
            "Transformed unique categories in safety: [1 2 0]\n",
            "Label encoder for safety: ['high' 'low' 'med']\n",
            "\n",
            "Original unique categories in class: ['unacc' 'acc' 'vgood' 'good']\n",
            "Transformed unique categories in class: [2 0 3 1]\n",
            "Label encoder for class: ['acc' 'good' 'unacc' 'vgood']\n",
            "\n"
          ]
        }
      ]
    },
    {
      "cell_type": "code",
      "source": [
        "# Dividir los datos en conjuntos de entrenamiento y prueba\n",
        "# Se elimina la variable objetivo de X\n",
        "X = df.drop('class', axis=1)\n",
        "y = df['class']\n",
        "X_train, X_test, y_train, y_test = train_test_split(X, y, test_size=0.25, random_state=42)"
      ],
      "metadata": {
        "id": "mWsLEbZg--LZ"
      },
      "execution_count": 189,
      "outputs": []
    },
    {
      "cell_type": "code",
      "source": [
        "from sklearn.ensemble import RandomForestClassifier\n",
        "from sklearn.metrics import classification_report\n",
        "\n",
        "rf_model = RandomForestClassifier(n_estimators=100, random_state=42, class_weight='balanced')\n",
        "\n",
        "# Entrenar el modelo\n",
        "rf_model.fit(X_train, y_train)\n",
        "\n",
        "# Predicciones\n",
        "y_pred = rf_model.predict(X_test)\n",
        "\n",
        "# Reporte de clasificación\n",
        "report = classification_report(y_test, y_pred)\n",
        "print(report)"
      ],
      "metadata": {
        "colab": {
          "base_uri": "https://localhost:8080/"
        },
        "id": "hyTMob6s_A8c",
        "outputId": "dea5d489-6e81-42eb-f9d3-e963f366a4fb"
      },
      "execution_count": 190,
      "outputs": [
        {
          "output_type": "stream",
          "name": "stdout",
          "text": [
            "              precision    recall  f1-score   support\n",
            "\n",
            "           0       0.96      0.88      0.92       103\n",
            "           1       0.59      0.87      0.70        15\n",
            "           2       0.99      1.00      0.99       294\n",
            "           3       0.95      0.95      0.95        20\n",
            "\n",
            "    accuracy                           0.96       432\n",
            "   macro avg       0.87      0.92      0.89       432\n",
            "weighted avg       0.97      0.96      0.96       432\n",
            "\n"
          ]
        }
      ]
    },
    {
      "cell_type": "markdown",
      "source": [
        "# Resultados obtenidos con el modelo de Random Forest:\n",
        "\n",
        "El modelo de Random Forest ha demostrado un desempeño sobresaliente en este conjunto de datos. Su capacidad para manejar efectivamente el desequilibrio de clases y sus características intrínsecas lo hacen ideal para este tipo de problemas de clasificación.\n",
        "\n",
        " **Análisis del Reporte de Clasificación:**\n",
        "  \n",
        "1.   Precisión (Precision): Es muy alta para todas las clases, especialmente para las clases 0, 2 y 3, donde es 0.96, 0.99 y 0.95, respectivamente. Esto indica que cuando el modelo predice una clase, es muy probable que la predicción sea correcta.\n",
        "2.   Recall (Recuperación): También es excepcionalmente alto para casi todas las clases. Destaca el recall de la clase 2 con un perfecto 1.00, indicando que el modelo identificó correctamente todos los casos reales de esta clase en el conjunto de prueba. Las clases 1 y 3 también muestran valores altos de recall, 0.87 y 0.95 respectivamente.\n",
        "3.   F1-Score: Este balance entre precisión y recall es útil cuando las clases están desbalanceadas como en este caso. Los valores de F1-score son excelentes, destacando la clase 2 con 0.99. Esto refleja un equilibrio muy bueno entre precisión y recall.\n",
        "4.   Soporte (Support): Muestra el número de ocurrencias de cada clase en el conjunto de prueba, ayudando a entender el contexto de las métricas. Aunque la clase 1 tiene un soporte menor (15), el modelo aún maneja bien su predicción.\n",
        "5.   Accuracy (Exactitud): La exactitud global del modelo es de 0.96, lo que indica que el 96% de todas las predicciones fueron correctas.\n"
      ],
      "metadata": {
        "id": "m8A1S_mk_IQe"
      }
    }
  ]
}